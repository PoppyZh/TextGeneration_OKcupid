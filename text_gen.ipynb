{
 "cells": [
  {
   "cell_type": "markdown",
   "metadata": {},
   "source": [
    "# Set up"
   ]
  },
  {
   "cell_type": "code",
   "execution_count": 1,
   "metadata": {},
   "outputs": [],
   "source": [
    "from textgenrnn import textgenrnn\n",
    "from datetime import datetime\n",
    "import os\n",
    "import pandas as pd"
   ]
  },
  {
   "cell_type": "code",
   "execution_count": 2,
   "metadata": {},
   "outputs": [],
   "source": [
    "import tensorflow as tf\n",
    "physical_devices = tf.config.list_physical_devices('GPU')\n",
    "tf.config.experimental.set_memory_growth(physical_devices[0], enable=True)"
   ]
  },
  {
   "cell_type": "code",
   "execution_count": 62,
   "metadata": {},
   "outputs": [],
   "source": [
    "model_cfg = {\n",
    "    'word_level': True,   # set to True if want to train a word-level model (requires more data and smaller max_length)\n",
    "    'rnn_size': 128,   # number of LSTM cells of each layer (128/256 recommended)\n",
    "    'rnn_layers': 3,   # number of LSTM layers (>=2 recommended)\n",
    "    'rnn_bidirectional': False,   # consider text both forwards and backward, can give a training boost\n",
    "    'max_length': 30,   # number of tokens to consider before predicting the next (20-40 for characters, 5-10 for words recommended)\n",
    "    'max_words': 10000,   # maximum number of words to model; the rest will be ignored (word-level model only)\n",
    "}\n",
    "\n",
    "train_cfg = {\n",
    "    'line_delimited': False,   # set to True if each text has its own line in the source file\n",
    "    'num_epochs': 100,   # set higher to train the model for longer\n",
    "    'gen_epochs': 125,   # generates sample text from model after given number of epochs\n",
    "    'train_size': 0.8,   # proportion of input data to train on: setting < 1.0 limits model from learning perfectly\n",
    "    'dropout': 0.1,   # ignore a random proportion of source tokens each epoch, allowing model to generalize better\n",
    "    'validation': False,   # If train__size < 1.0, test on holdout dataset; will make overall training slower\n",
    "    'is_csv': False   # set to True if file is a CSV exported from Excel/BigQuery/pandas\n",
    "}"
   ]
  },
  {
   "cell_type": "markdown",
   "metadata": {},
   "source": [
    "# Data"
   ]
  },
  {
   "cell_type": "code",
   "execution_count": 15,
   "metadata": {},
   "outputs": [
    {
     "data": {
      "text/plain": [
       "Index(['age', 'body_type', 'diet', 'drinks', 'drugs', 'education', 'essay0',\n",
       "       'essay1', 'essay2', 'essay3',\n",
       "       ...\n",
       "       'w199', 'w200', 'sd', 'ave_sentiment', 'Flesch_Kincaid',\n",
       "       'Gunning_Fog_Index', 'Coleman_Liau', 'SMOG',\n",
       "       'Automated_Readability_Index', 'Average_Grade_Level'],\n",
       "      dtype='object', length=556)"
      ]
     },
     "execution_count": 15,
     "metadata": {},
     "output_type": "execute_result"
    }
   ],
   "source": [
    "raw_df = pd.read_csv('okcupid_text.csv')\n",
    "raw_df.columns"
   ]
  },
  {
   "cell_type": "code",
   "execution_count": 58,
   "metadata": {},
   "outputs": [
    {
     "data": {
      "text/plain": [
       "Index(['body_type', 'diet', 'drinks', 'drugs', 'education', 'essay0', 'essay1',\n",
       "       'essay2', 'essay3', 'essay4', 'essay5', 'essay6', 'essay7', 'essay8',\n",
       "       'essay9', 'ethnicity', 'height', 'income', 'job', 'last_online',\n",
       "       'location', 'offspring', 'orientation', 'pets', 'religion', 'sex',\n",
       "       'sign', 'smokes', 'speaks', 'status', 'uuid', 'age_group', 'body_fat',\n",
       "       'body_fit', 'body_type_noanswer', 'body_thin', 'vegetarian',\n",
       "       'halal_kosher', 'alcohol', 'drugs_rec', 'education_rec', 'grad_school',\n",
       "       'black', 'asian', 'short', 'income_rec', 'haskids', 'wantskids', 'gay'],\n",
       "      dtype='object')"
      ]
     },
     "execution_count": 58,
     "metadata": {},
     "output_type": "execute_result"
    }
   ],
   "source": [
    "raw_df.columns[1:50]"
   ]
  },
  {
   "cell_type": "code",
   "execution_count": 59,
   "metadata": {},
   "outputs": [
    {
     "data": {
      "text/html": [
       "<div>\n",
       "<style scoped>\n",
       "    .dataframe tbody tr th:only-of-type {\n",
       "        vertical-align: middle;\n",
       "    }\n",
       "\n",
       "    .dataframe tbody tr th {\n",
       "        vertical-align: top;\n",
       "    }\n",
       "\n",
       "    .dataframe thead th {\n",
       "        text-align: right;\n",
       "    }\n",
       "</style>\n",
       "<table border=\"1\" class=\"dataframe\">\n",
       "  <thead>\n",
       "    <tr style=\"text-align: right;\">\n",
       "      <th></th>\n",
       "      <th>essay0</th>\n",
       "      <th>sex</th>\n",
       "    </tr>\n",
       "  </thead>\n",
       "  <tbody>\n",
       "    <tr>\n",
       "      <th>count</th>\n",
       "      <td>10000</td>\n",
       "      <td>10000</td>\n",
       "    </tr>\n",
       "    <tr>\n",
       "      <th>unique</th>\n",
       "      <td>9995</td>\n",
       "      <td>2</td>\n",
       "    </tr>\n",
       "    <tr>\n",
       "      <th>top</th>\n",
       "      <td>hi!</td>\n",
       "      <td>m</td>\n",
       "    </tr>\n",
       "    <tr>\n",
       "      <th>freq</th>\n",
       "      <td>3</td>\n",
       "      <td>5946</td>\n",
       "    </tr>\n",
       "  </tbody>\n",
       "</table>\n",
       "</div>"
      ],
      "text/plain": [
       "       essay0    sex\n",
       "count   10000  10000\n",
       "unique   9995      2\n",
       "top       hi!      m\n",
       "freq        3   5946"
      ]
     },
     "execution_count": 59,
     "metadata": {},
     "output_type": "execute_result"
    }
   ],
   "source": [
    "df= raw_df[['essay0', 'sex']]\n",
    "df= df.dropna()\n",
    "df= df.sample(10000)\n",
    "df.describe()"
   ]
  },
  {
   "cell_type": "markdown",
   "metadata": {},
   "source": [
    "## Run Text Generation Model"
   ]
  },
  {
   "cell_type": "code",
   "execution_count": 61,
   "metadata": {},
   "outputs": [],
   "source": [
    "df.essay0 = df.essay0.str.replace('<[^<]+?>', '') \n",
    "df.essay0= df.essay0.str.replace('\\n', '') \n",
    "#essay0[1:10000].to_csv('essay0.csv')\n",
    "#essay0[1:10000]\n",
    "df.essay0\n",
    "df_m = df[df.sex=='m']\n",
    "df_f = df[df.sex=='f']"
   ]
  },
  {
   "cell_type": "code",
   "execution_count": 64,
   "metadata": {},
   "outputs": [],
   "source": [
    "text_m =  df_m['essay0'].tolist()\n",
    "text_f =  df_f['essay0'].tolist()"
   ]
  },
  {
   "cell_type": "code",
   "execution_count": 65,
   "metadata": {},
   "outputs": [],
   "source": [
    "model_name = 'okcupid'\n",
    "textgen_f = textgenrnn(name=model_name)\n",
    "textgen_f.reset()"
   ]
  },
  {
   "cell_type": "code",
   "execution_count": null,
   "metadata": {},
   "outputs": [
    {
     "name": "stdout",
     "output_type": "stream",
     "text": [
      "Training new model w/ 3-layer, 128-cell LSTMs\n",
      "Training on 483,992 word sequences.\n",
      "WARNING:tensorflow:sample_weight modes were coerced from\n",
      "  ...\n",
      "    to  \n",
      "  ['...']\n",
      "Train for 967 steps\n",
      "Epoch 1/100\n",
      "967/967 [==============================] - 81s 84ms/step - loss: 5.3567\n",
      "Epoch 2/100\n",
      "967/967 [==============================] - 79s 82ms/step - loss: 4.4381\n",
      "Epoch 3/100\n",
      "967/967 [==============================] - 76s 79ms/step - loss: 4.0810\n",
      "Epoch 4/100\n",
      "967/967 [==============================] - 74s 77ms/step - loss: 3.8368\n",
      "Epoch 5/100\n",
      "967/967 [==============================] - 73s 76ms/step - loss: 3.6288\n",
      "Epoch 6/100\n",
      "833/967 [========================>.....] - ETA: 9s - loss: 3.4422"
     ]
    }
   ],
   "source": [
    "#train_function = textgen.train_from_file if train_cfg['line_delimited'] else textgen.train_from_largetext_file\n",
    "textgen_f.train_new_model( \n",
    "    text_f,\n",
    "    #context_labels=context_labels, \n",
    "    #context=True,\n",
    "    num_epochs=train_cfg['num_epochs'],\n",
    "    gen_epochs=train_cfg['gen_epochs'],\n",
    "    batch_size=500,\n",
    "    train_size=train_cfg['train_size'],\n",
    "    dropout=train_cfg['dropout'],\n",
    "    validation=train_cfg['validation'],\n",
    "    is_csv=train_cfg['is_csv'],\n",
    "    rnn_layers=model_cfg['rnn_layers'],\n",
    "    rnn_size=model_cfg['rnn_size'],\n",
    "    rnn_bidirectional=model_cfg['rnn_bidirectional'],\n",
    "    max_length=model_cfg['max_length'],\n",
    "    dim_embeddings= 100,\n",
    "    word_level=model_cfg['word_level'])"
   ]
  },
  {
   "cell_type": "code",
   "execution_count": null,
   "metadata": {},
   "outputs": [],
   "source": [
    "textgen_m = textgenrnn(name=model_name)\n",
    "textgen_m.train_new_model( \n",
    "    text_m,\n",
    "    #ontext_labels=context_labels, \n",
    "    #context=True,\n",
    "    num_epochs=train_cfg['num_epochs'],\n",
    "    gen_epochs=train_cfg['gen_epochs'],\n",
    "    batch_size=500,\n",
    "    train_size=train_cfg['train_size'],\n",
    "    dropout=train_cfg['dropout'],\n",
    "    validation=train_cfg['validation'],\n",
    "    is_csv=train_cfg['is_csv'],\n",
    "    rnn_layers=model_cfg['rnn_layers'],\n",
    "    rnn_size=model_cfg['rnn_size'],\n",
    "    rnn_bidirectional=model_cfg['rnn_bidirectional'],\n",
    "    max_length=model_cfg['max_length'],\n",
    "    dim_embeddings= 100,\n",
    "    word_level=model_cfg['word_level'])"
   ]
  },
  {
   "cell_type": "code",
   "execution_count": 57,
   "metadata": {},
   "outputs": [
    {
     "name": "stdout",
     "output_type": "stream",
     "text": [
      "i'm a nice guy who is looking for a good friend. i'm a very nice guy. i love to laugh and have a good time. i'm also a total homebody, but i'm not into the bar scene. i'm a bit of a nerd. i'm a bit of a dork, but i'm not a snob. i'm a bit of a dork. i'm a bit of a romantic. i'm a bit of a romantic. i'm not a jock, but i love to cook, i'm not a fan of jeans and a. i'm a bit of a homebody, but i'm also a bit of a homebody, but i'm not afraid to go out with friends, but i'm also a bit of a nerd. i'm a bit of a nerd, but i'm also very sarcastic. i'm a bit of a romantic. i'm a bit of a freak, and i'm not a snob. i'm a bit of a romantic, but i'm not looking for a hook - up. i'm a very nice guy, but i'm not really interested in meeting people. i'm a bit of a dork, but i'm not a. i'm a bit of a nerd, but i'm not a. i'm not a fan of a night, but i'm\n",
      "\n"
     ]
    }
   ],
   "source": [
    "textgen_m.generate(1, temperature=0.3)"
   ]
  },
  {
   "cell_type": "code",
   "execution_count": null,
   "metadata": {},
   "outputs": [],
   "source": [
    "textgen_f.generate(1, temperature=0.3)"
   ]
  }
 ],
 "metadata": {
  "kernelspec": {
   "display_name": "Python 3",
   "language": "python",
   "name": "python3"
  },
  "language_info": {
   "codemirror_mode": {
    "name": "ipython",
    "version": 3
   },
   "file_extension": ".py",
   "mimetype": "text/x-python",
   "name": "python",
   "nbconvert_exporter": "python",
   "pygments_lexer": "ipython3",
   "version": "3.7.6"
  }
 },
 "nbformat": 4,
 "nbformat_minor": 4
}
